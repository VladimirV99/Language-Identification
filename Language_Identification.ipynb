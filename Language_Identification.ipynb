{
 "cells": [
  {
   "cell_type": "markdown",
   "id": "05d045d2",
   "metadata": {},
   "source": [
    "# Language Identification"
   ]
  },
  {
   "cell_type": "markdown",
   "id": "f4b80288",
   "metadata": {},
   "source": [
    "- https://cs229.stanford.edu/proj2015/324_report.pdf\n",
    "- https://sites.google.com/view/vardial2021/home\n",
    "- http://ttg.uni-saarland.de/resources/DSLCC/\n",
    "- https://mzampieri.com/publications.html\n",
    "- https://mzampieri.com/papers/dsl2016.pdf"
   ]
  }
 ],
 "metadata": {
  "kernelspec": {
   "display_name": "Python 3",
   "language": "python",
   "name": "python3"
  },
  "language_info": {
   "codemirror_mode": {
    "name": "ipython",
    "version": 3
   },
   "file_extension": ".py",
   "mimetype": "text/x-python",
   "name": "python",
   "nbconvert_exporter": "python",
   "pygments_lexer": "ipython3",
   "version": "3.8.8"
  }
 },
 "nbformat": 4,
 "nbformat_minor": 5
}
